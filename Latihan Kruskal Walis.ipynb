{
 "cells": [
  {
   "cell_type": "markdown",
   "id": "62ae1711",
   "metadata": {},
   "source": [
    "# Latihan Kruskal Walis"
   ]
  },
  {
   "cell_type": "code",
   "execution_count": 10,
   "id": "82dcee04",
   "metadata": {},
   "outputs": [],
   "source": [
    "# Import library yang diperlukan\n",
    "import numpy as np\n",
    "import pandas as np\n",
    "from scipy.stats import kruskal"
   ]
  },
  {
   "cell_type": "code",
   "execution_count": 14,
   "id": "f13a2c3a",
   "metadata": {},
   "outputs": [
    {
     "data": {
      "text/plain": [
       "{'A': [4.9, 6.1, 4.3, 4.6, 5.2],\n",
       " 'B': [5.5, 5.4, 6.2, 5.8, 5.5, 5.2, 4.8],\n",
       " 'C': [6.4, 6.8, 5.6, 6.5, 6.3, 6.6]}"
      ]
     },
     "execution_count": 14,
     "metadata": {},
     "output_type": "execute_result"
    }
   ],
   "source": [
    "# Data\n",
    "df = {\"A\": [4.9,6.1,4.3,4.6,5.2],\n",
    "      \"B\":[5.5,5.4,6.2,5.8,5.5,5.2,4.8],\n",
    "      \"C\": [6.4,6.8,5.6,6.5,6.3,6.6]}\n",
    "df"
   ]
  },
  {
   "cell_type": "code",
   "execution_count": 17,
   "id": "ff7c8d05",
   "metadata": {},
   "outputs": [
    {
     "name": "stdout",
     "output_type": "stream",
     "text": [
      "Statistik Kruskal-Wallis: 10.603841040035457\n",
      "P-Value: 0.0049820166504916845\n",
      "Ada perbedaan rata-rata lama operasi kalkulator sebelum baterai terisi kembali.\n"
     ]
    }
   ],
   "source": [
    "# Melakukan uji Kruskal-Wallis dengan unpacking data dari dictionary\n",
    "stat, p_value = kruskal(*df.values())\n",
    "\n",
    "# Menampilkan hasil\n",
    "print(\"Statistik Kruskal-Wallis:\", stat)\n",
    "print(\"P-Value:\", p_value)\n",
    "\n",
    "# Interpretasi hasil\n",
    "alpha = 0.01  # Tingkat signifikansi\n",
    "if p_value < alpha:\n",
    "    print(\"Ada perbedaan rata-rata lama operasi kalkulator sebelum baterai terisi kembali.\")\n",
    "else:\n",
    "    print(\"Tidak ada perbedaan rata-rata lama operasi kalkulator sebelum baterai terisi kembali.\")"
   ]
  }
 ],
 "metadata": {
  "kernelspec": {
   "display_name": "Python 3 (ipykernel)",
   "language": "python",
   "name": "python3"
  },
  "language_info": {
   "codemirror_mode": {
    "name": "ipython",
    "version": 3
   },
   "file_extension": ".py",
   "mimetype": "text/x-python",
   "name": "python",
   "nbconvert_exporter": "python",
   "pygments_lexer": "ipython3",
   "version": "3.10.9"
  }
 },
 "nbformat": 4,
 "nbformat_minor": 5
}
